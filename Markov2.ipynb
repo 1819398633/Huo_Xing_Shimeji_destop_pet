{
 "cells": [
  {
   "cell_type": "code",
   "execution_count": 18,
   "metadata": {},
   "outputs": [
    {
     "data": {
      "text/plain": [
       "'\\ufeff<?xml version=\"1.0\" encoding=\"UTF-8\" ?>\\n<Mascot xmlns=\"http://www.group-finity.com/Mascot\" xmlns:xsi=\"http://www.w3.org/2001/XMLSchema-instance\"\\n\\txsi:schemaLocation=\"http://www.group-finity.com/Mascot Mascot.xsd\">\\n\\n\\t<BehaviorList>\\n\\t\\n\\t\\t<!-- ALWAYS REQUIRED -->\\n\\t\\t<Behavior Name=\"ChaseMouse\" Frequency=\"0\" Hidden=\"true\">\\n\\t\\t\\t<NextBehavior Add=\"false\">\\n\\t\\t\\t\\t<BehaviorReference Name=\"SitAndFaceMouse\" Frequency=\"1\" />\\n\\t\\t\\t</NextBehavior>\\n\\t\\t</Behavior>\\n\\t\\t\\n\\t\\t<Behavior Name=\"SitAndFaceMouse\" Frequency=\"0\">\\n\\t\\t\\t<NextBehavior Add=\"false\">\\n\\t\\t\\t\\t<BehaviorReference Name=\"SitAndFaceMouse\" Frequency=\"100\" />\\n\\t\\t\\t\\t<BehaviorReference Name=\"SitAndSpinHead\" Frequency=\"1\" />\\n\\t\\t\\t\\t<BehaviorReference Name=\"SitWhileDanglingLegs\" Frequency=\"1\" />\\n\\t\\t\\t</NextBehavior>\\n\\t\\t</Behavior>\\n\\t\\t\\n\\t\\t<Behavior Name=\"SitAndSpinHead\" Frequency=\"0\">\\n\\t\\t\\t<NextBehavior Add=\"false\">\\n\\t\\t\\t\\t<BehaviorReference Name=\"SitAndFaceMouse\" Frequency=\"1\" />\\n\\t\\t\\t</NextBehavior>\\n\\t\\t</Behavior>\\n\\t\\t\\n\\t\\t<!-- ALWAYS REQUIRED -->\\n\\t\\t<Behavior Name=\"Fall\" Frequency=\"0\" Hidden=\"true\" />\\n\\t\\t\\n\\t\\t<!-- ALWAYS REQUIRED -->\\n\\t\\t<Behavior Name=\"Dragged\" Frequency=\"0\" Hidden=\"true\" />\\n\\t\\t\\n\\t\\t<!-- ALWAYS REQUIRED -->\\n\\t\\t<Behavior Name=\"Thrown\" Frequency=\"0\" Hidden=\"true\" />\\n\\t\\t\\n\\t\\t<Behavior Name=\"PullUp\" Frequency=\"0\" Hidden=\"true\" />\\n\\t\\t<Behavior Name=\"Divided\" Frequency=\"0\" Hidden=\"true\" />\\n\\n\\t\\t<!-- On the Floor -->\\n\\t\\t<Condition Condition=\"#{mascot.environment.floor.isOn(mascot.anchor) || mascot.environment.activeIE.topBorder.isOn(mascot.anchor)}\">\\n\\t\\t\\t<Behavior Name=\"StandUp\" Frequency=\"200\" Hidden=\"true\" />\\n\\t\\t\\t<Behavior Name=\"SitDown\" Frequency=\"200\">\\n\\t\\t\\t\\t<NextBehavior Add=\"true\">\\n\\t\\t\\t\\t\\t<BehaviorReference Name=\"SitWhileDanglingLegs\" Frequency=\"100\" />\\n\\t\\t\\t\\t\\t<BehaviorReference Name=\"LieDown\" Frequency=\"100\" />\\n\\t\\t\\t\\t</NextBehavior>\\n\\t\\t\\t</Behavior>\\n\\t\\t\\t<Behavior Name=\"SitWhileDanglingLegs\" Frequency=\"0\" />\\n\\t\\t\\t<Behavior Name=\"LieDown\" Frequency=\"0\">\\n\\t\\t\\t\\t<NextBehavior Add=\"false\">\\n\\t\\t\\t\\t\\t<BehaviorReference Name=\"SitDown\" Frequency=\"100\" />\\n\\t\\t\\t\\t\\t<BehaviorReference Name=\"CrawlAlongIECeiling\" Frequency=\"100\" Condition=\"${mascot.environment.activeIE.topBorder.isOn(mascot.anchor)}\" Hidden=\"true\" />\\n\\t\\t\\t\\t\\t<BehaviorReference Name=\"CrawlAlongWorkAreaFloor\" Frequency=\"100\" Condition=\"${mascot.environment.floor.isOn(mascot.anchor)}\" />\\n\\t\\t\\t\\t</NextBehavior>\\n\\t\\t\\t</Behavior>\\n\\t\\t\\t\\n\\t\\t\\t<Behavior Name=\"SplitIntoTwo\" Frequency=\"50\" Condition=\"#{mascot.totalCount &lt; 50}\" />\\n\\t\\t</Condition>\\n\\n\\t\\t<!-- On the Wall -->\\n\\t\\t<Condition Condition=\"#{ mascot.lookRight ? (\\n\\t\\t\\t\\t\\tmascot.environment.workArea.rightBorder.isOn(mascot.anchor) || \\n\\t\\t\\t\\t\\tmascot.environment.activeIE.leftBorder.isOn(mascot.anchor) ) : (\\n\\t\\t\\t\\t\\tmascot.environment.workArea.leftBorder.isOn(mascot.anchor) || \\n\\t\\t\\t\\t\\tmascot.environment.activeIE.rightBorder.isOn(mascot.anchor) ) }\">\\n\\t\\t\\t<Behavior Name=\"HoldOntoWall\" Frequency=\"100\" Hidden=\"true\" />\\n\\t\\t\\t<Behavior Name=\"FallFromWall\" Frequency=\"50\" Condition=\"${!mascot.environment.floor.isOn(mascot.anchor)}\" Hidden=\"true\" />\\n\\t\\t</Condition>\\n\\t\\t\\n\\t\\t<!-- On the Ceiling -->\\n\\t\\t<Condition Condition=\"#{mascot.environment.ceiling.isOn(mascot.anchor) || mascot.environment.activeIE.bottomBorder.isOn(mascot.anchor)}\">\\n\\t\\t\\t<Behavior Name=\"HoldOntoCeiling\" Frequency=\"100\" Hidden=\"true\" />\\n\\t\\t\\t<Behavior Name=\"FallFromCeiling\" Frequency=\"50\" Hidden=\"true\" />\\n\\t\\t</Condition>\\n\\t\\t\\n\\t\\t<!-- On Work Area Floor -->\\n\\t\\t<Condition Condition=\"#{mascot.environment.floor.isOn(mascot.anchor)}\">\\n\\t\\t\\t<Behavior Name=\"WalkAlongWorkAreaFloor\" Frequency=\"100\" Hidden=\"true\" />\\n\\t\\t\\t<Behavior Name=\"RunAlongWorkAreaFloor\" Frequency=\"100\" Hidden=\"true\" />\\n\\t\\t\\t<Behavior Name=\"CrawlAlongWorkAreaFloor\" Frequency=\"10\">\\n\\t\\t\\t\\t<NextBehavior Add=\"false\">\\n\\t\\t\\t\\t\\t<!-- Finished Crawling -->\\n\\t\\t\\t\\t\\t<BehaviorReference Name=\"LieDown\" Frequency=\"1\" />\\n\\t\\t\\t\\t</NextBehavior>\\n\\t\\t\\t</Behavior>\\n\\t\\t\\t<Behavior Name=\"WalkLeftAlongFloorAndSit\" Frequency=\"100\" Hidden=\"true\" />\\n\\t\\t\\t<Behavior Name=\"WalkRightAlongFloorAndSit\" Frequency=\"100\" Hidden=\"true\" />\\n\\t\\t\\t<Behavior Name=\"GrabWorkAreaBottomLeftWall\" Frequency=\"100\" Hidden=\"true\" />\\n\\t\\t\\t<Behavior Name=\"GrabWorkAreaBottomRightWall\" Frequency=\"100\" Hidden=\"true\" />\\n\\t\\t\\t<Behavior Name=\"WalkLeftAndSit\" Frequency=\"100\" Hidden=\"true\" />\\n\\t\\t\\t<Behavior Name=\"WalkRightAndSit\" Frequency=\"100\" Hidden=\"true\" />\\n\\t\\t\\t<Behavior Name=\"WalkAndGrabBottomLeftWall\" Frequency=\"100\" />\\n\\t\\t\\t<Behavior Name=\"WalkAndGrabBottomRightWall\" Frequency=\"100\" />\\n\\t\\t\\t<Behavior Name=\"JumpFromBottomOfIE\" Frequency=\"50\" Condition=\"#{mascot.anchor.x &gt;= mascot.environment.activeIE.left &amp;&amp;\\n\\t\\t\\t\\tmascot.anchor.x &lt; mascot.environment.activeIE.right}\" />\\n\\t\\t\\t\\t\\n\\t\\t\\t<Behavior Name=\"PullUpShimeji\" Frequency=\"50\" Condition=\"#{mascot.totalCount &lt; 50}\" />\\n\\t\\t</Condition>\\n\\t\\t\\n\\t\\t<!-- On Work Area Facing the Wall -->\\n\\t\\t<Condition Condition=\"#{mascot.lookRight ? mascot.environment.workArea.rightBorder.isOn(mascot.anchor) :\\n\\t\\t\\t\\t\\tmascot.environment.workArea.leftBorder.isOn(mascot.anchor)}\">\\n\\t\\t\\t<Behavior Name=\"ClimbHalfwayAlongWall\" Frequency=\"100\" Hidden=\"true\" />\\n\\t\\t\\t<Behavior Name=\"ClimbAlongWall\" Frequency=\"100\" />\\n\\t\\t</Condition>\\n\\t\\t\\n\\t\\t<!-- On Work Area Top Facing -->\\n\\t\\t<Condition Condition=\"#{mascot.environment.ceiling.isOn(mascot.anchor)}\">\\n\\t\\t\\t<Behavior Name=\"ClimbAlongCeiling\" Frequency=\"100\" />\\n\\t\\t</Condition>\\n\\t\\t\\n\\t\\t<!-- On Top of IE -->\\n\\t\\t<Condition Condition=\"#{mascot.environment.activeIE.topBorder.isOn(mascot.anchor)}\">\\n\\t\\t\\t<Behavior Name=\"WalkAlongIECeiling\" Frequency=\"100\" Hidden=\"true\" />\\n\\t\\t\\t<Behavior Name=\"RunAlongIECeiling\" Frequency=\"100\" Hidden=\"true\" />\\n\\t\\t\\t<Behavior Name=\"CrawlAlongIECeiling\" Frequency=\"10\" Hidden=\"true\">\\n\\t\\t\\t\\t<NextBehavior Add=\"false\">\\n\\t\\t\\t\\t\\t<!-- Finished Crawling -->\\n\\t\\t\\t\\t\\t<BehaviorReference Name=\"LieDown\" Frequency=\"1\" />\\n\\t\\t\\t\\t</NextBehavior>\\n\\t\\t\\t</Behavior>\\n\\t\\t\\t<Behavior Name=\"SitOnTheLeftEdgeOfIE\" Frequency=\"100\" Hidden=\"true\" />\\n\\t\\t\\t<Behavior Name=\"SitOnTheRightEdgeOfIE\" Frequency=\"100\" Hidden=\"true\" />\\n\\t\\t\\t<Behavior Name=\"JumpFromLeftEdgeOfIE\" Frequency=\"100\" Hidden=\"true\" />\\n\\t\\t\\t<Behavior Name=\"JumpFromRightEdgeOfIE\" Frequency=\"100\" Hidden=\"true\" />\\n\\t\\t\\t<Behavior Name=\"WalkLeftAlongIEAndSit\" Frequency=\"100\" Hidden=\"true\" />\\n\\t\\t\\t<Behavior Name=\"WalkRightAlongIEAndSit\" Frequency=\"100\" Hidden=\"true\" />\\n\\t\\t\\t<Behavior Name=\"WalkLeftAlongIEAndJump\" Frequency=\"100\" Hidden=\"true\" />\\n\\t\\t\\t<Behavior Name=\"WalkRightAlongIEAndJump\" Frequency=\"100\" Hidden=\"true\" />\\n\\t\\t</Condition>\\n\\t\\t\\n\\t\\t<!-- On IE\\'s Side -->\\n\\t\\t<Condition Condition=\"#{mascot.lookRight ? mascot.environment.activeIE.leftBorder.isOn(mascot.anchor) :\\n\\t\\t\\t\\t\\tmascot.environment.activeIE.rightBorder.isOn(mascot.anchor)}\">\\n\\t\\t\\t<Behavior Name=\"HoldOntoIEWall\" Frequency=\"100\" Hidden=\"true\" />\\n\\t\\t\\t<Behavior Name=\"ClimbIEWall\" Frequency=\"100\" Hidden=\"true\" />\\n\\t\\t\\t\\n\\t\\t</Condition>\\n\\n\\t\\t<!-- On the Bottom of IE -->\\n\\t\\t<Condition Condition=\"#{mascot.environment.activeIE.bottomBorder.isOn(mascot.anchor)}\">\\n\\t\\t\\t<Behavior Name=\"ClimbIEBottom\" Frequency=\"100\" Hidden=\"true\" />\\n\\t\\t\\t<Behavior Name=\"GrabIEBottomLeftWall\" Frequency=\"100\" Hidden=\"true\" />\\n\\t\\t\\t<Behavior Name=\"GrabIEBottomRightWall\" Frequency=\"100\" Hidden=\"true\" />\\n\\t\\t</Condition>\\n\\t\\t\\n\\t\\t<Behavior Name=\"JumpFromLeftWall\" Frequency=\"50\" Condition=\"#{!mascot.environment.workArea.leftBorder.isOn(mascot.anchor) &amp;&amp;\\n\\t\\t\\tmascot.anchor.x &lt; mascot.environment.workArea.left+400 &amp;&amp;\\n\\t\\t\\tMath.abs(mascot.environment.workArea.bottom-mascot.anchor.y) &lt;mascot.environment.workArea.height/4}\" Hidden=\"true\" />\\n\\t\\t<Behavior Name=\"JumpFromRightWall\" Frequency=\"50\" Condition=\"#{!mascot.environment.workArea.rightBorder.isOn(mascot.anchor) &amp;&amp;\\n\\t\\t\\tmascot.anchor.x &gt;= mascot.environment.workArea.right-400 &amp;&amp;\\n\\t\\t\\tMath.abs(mascot.environment.workArea.bottom-mascot.anchor.y) &lt;mascot.environment.workArea.height/4}\" Hidden=\"true\" />\\n\\n\\t\\t<!-- IE Is Visible -->\\n\\t\\t<Condition Condition=\"#{mascot.environment.activeIE.visible}\">\\n\\t\\t\\t<Behavior Name=\"JumpOnIELeftWall\" Frequency=\"50\" Condition=\"#{mascot.anchor.x &lt; mascot.environment.activeIE.left &amp;&amp;\\n\\t\\t\\t\\tMath.abs(mascot.environment.activeIE.bottom-mascot.anchor.y) &lt;mascot.environment.activeIE.height/4}\" Hidden=\"true\" />\\n\\t\\t\\t<Behavior Name=\"JumpOnIERightWall\" Frequency=\"50\" Condition=\"#{mascot.anchor.x &gt; mascot.environment.activeIE.right &amp;&amp;\\n\\t\\t\\t\\tMath.abs(mascot.environment.activeIE.bottom-mascot.anchor.y) &lt;mascot.environment.activeIE.height/4}\" Hidden=\"true\" />\\n\\t\\t\\t\\t\\n\\t\\t\\t<Behavior Name=\"ThrowIEFromLeft\" Frequency=\"20\" Condition=\"#{mascot.environment.activeIE.bottom &lt; mascot.anchor.y-64 &amp;&amp;\\n\\t\\t\\t\\tmascot.anchor.x &lt; mascot.environment.activeIE.left}\" />\\n\\t\\t\\t<Behavior Name=\"ThrowIEFromRight\" Frequency=\"20\" Condition=\"#{mascot.environment.activeIE.bottom &lt; mascot.anchor.y-64 &amp;&amp;\\n\\t\\t\\t\\tmascot.anchor.x &gt; mascot.environment.activeIE.right}\" />\\n\\t\\t\\t<Behavior Name=\"WalkAndThrowIEFromRight\" Frequency=\"20\" Condition=\"#{mascot.environment.activeIE.bottom &lt; mascot.anchor.y-64 &amp;&amp;\\n\\t\\t\\t\\tmascot.anchor.x &lt; mascot.environment.activeIE.left}\" />\\n\\t\\t\\t<Behavior Name=\"WalkAndThrowIEFromLeft\" Frequency=\"20\" Condition=\"#{mascot.environment.activeIE.bottom &lt; mascot.anchor.y-64 &amp;&amp;\\n\\t\\t\\t\\tmascot.anchor.x &gt; mascot.environment.activeIE.right}\" />\\n\\t\\t</Condition>\\n\\n\\t</BehaviorList>\\n</Mascot>\\n'"
      ]
     },
     "execution_count": 18,
     "metadata": {},
     "output_type": "execute_result"
    }
   ],
   "source": [
    "import re\n",
    "from collections import defaultdict\n",
    "import numpy as np\n",
    "\n",
    "def read_xml_to_string(file_path):\n",
    "    with open(file_path, 'r', encoding='utf-8') as file:\n",
    "        return file.read()\n",
    "\n",
    "# 示例文件路径，实际应用中请替换为实际文件路径\n",
    "file_path = 'conf/behaviors.xml'\n",
    "xml_content = read_xml_to_string(file_path)\n",
    "xml_content"
   ]
  },
  {
   "cell_type": "code",
   "execution_count": 15,
   "metadata": {},
   "outputs": [],
   "source": [
    "# 提取行为和下一个行为的关系\n",
    "behavior_pattern = r'<Behavior Name=\"([^\"]+)\"[^>]*>[\\s\\S]*?<NextBehavior[^>]*>([\\s\\S]*?)</NextBehavior>'\n",
    "next_behavior_pattern = r'<BehaviorReference Name=\"([^\"]+)\" Frequency=\"(\\d+)\"'\n",
    "\n",
    "# 存储行为及其可能的下一个行为和频率\n",
    "behavior_dict = defaultdict(dict)\n",
    "\n",
    "# 解析XML文本\n",
    "for behavior_match in re.finditer(behavior_pattern, xml_content):\n",
    "    behavior_name = behavior_match.group(1)\n",
    "    next_behaviors_content = behavior_match.group(2)\n",
    "    for next_behavior_match in re.finditer(next_behavior_pattern, next_behaviors_content):\n",
    "        next_behavior_name = next_behavior_match.group(1)\n",
    "        frequency = int(next_behavior_match.group(2))\n",
    "        behavior_dict[behavior_name][next_behavior_name] = frequency\n",
    "\n",
    "# 确保包括所有唯一的行为名称\n",
    "all_behaviors = set(behavior_dict.keys())\n",
    "for behaviors in behavior_dict.values():\n",
    "    all_behaviors.update(behaviors.keys())\n"
   ]
  },
  {
   "cell_type": "code",
   "execution_count": 16,
   "metadata": {},
   "outputs": [
    {
     "data": {
      "text/plain": [
       "defaultdict(dict,\n",
       "            {'ChaseMouse': {'SitAndFaceMouse': 1},\n",
       "             'SitAndFaceMouse': {'SitAndFaceMouse': 100,\n",
       "              'SitAndSpinHead': 1,\n",
       "              'SitWhileDanglingLegs': 1},\n",
       "             'SitAndSpinHead': {'SitAndFaceMouse': 1},\n",
       "             'Fall': {'SitWhileDanglingLegs': 100, 'LieDown': 100},\n",
       "             'SitWhileDanglingLegs': {'SitDown': 100,\n",
       "              'CrawlAlongIECeiling': 100,\n",
       "              'CrawlAlongWorkAreaFloor': 100},\n",
       "             'SplitIntoTwo': {'LieDown': 1},\n",
       "             'WalkLeftAlongFloorAndSit': {'LieDown': 1}})"
      ]
     },
     "execution_count": 16,
     "metadata": {},
     "output_type": "execute_result"
    }
   ],
   "source": [
    "behavior_dict"
   ]
  },
  {
   "cell_type": "code",
   "execution_count": 17,
   "metadata": {},
   "outputs": [
    {
     "data": {
      "text/plain": [
       "{'ChaseMouse',\n",
       " 'CrawlAlongIECeiling',\n",
       " 'CrawlAlongWorkAreaFloor',\n",
       " 'Fall',\n",
       " 'LieDown',\n",
       " 'SitAndFaceMouse',\n",
       " 'SitAndSpinHead',\n",
       " 'SitDown',\n",
       " 'SitWhileDanglingLegs',\n",
       " 'SplitIntoTwo',\n",
       " 'WalkLeftAlongFloorAndSit'}"
      ]
     },
     "execution_count": 17,
     "metadata": {},
     "output_type": "execute_result"
    }
   ],
   "source": [
    "all_behaviors"
   ]
  },
  {
   "cell_type": "code",
   "execution_count": null,
   "metadata": {},
   "outputs": [
    {
     "name": "stdout",
     "output_type": "stream",
     "text": [
      "States: ['SitAndFaceMouse', 'SitWhileDanglingLegs', 'SitAndSpinHead', 'ChaseMouse']\n",
      "Markov Matrix:\n",
      " [[100   1   1   0]\n",
      " [  0   0   0   0]\n",
      " [  0   0   0   0]\n",
      " [  1   0   0   0]]\n",
      "Markov Matrix Normalized:\n",
      " [[0.98039216 0.00980392 0.00980392 0.        ]\n",
      " [       nan        nan        nan        nan]\n",
      " [       nan        nan        nan        nan]\n",
      " [1.         0.         0.         0.        ]]\n"
     ]
    },
    {
     "name": "stderr",
     "output_type": "stream",
     "text": [
      "C:\\Users\\18193\\AppData\\Local\\Temp\\ipykernel_18684\\4141249111.py:15: RuntimeWarning: invalid value encountered in true_divide\n",
      "  markov_matrix_n = markov_matrix / markov_matrix.sum(axis=1, keepdims=True)\n"
     ]
    }
   ],
   "source": [
    "\n",
    "# 构建Markov Matrix\n",
    "states = list(all_behaviors)\n",
    "matrix_size = len(states)\n",
    "markov_matrix = np.zeros((matrix_size, matrix_size), dtype=int)\n",
    "\n",
    "# 填充矩阵\n",
    "for i, behavior in enumerate(states):\n",
    "    transitions = behavior_dict.get(behavior, {})\n",
    "    for next_behavior, frequency in transitions.items():\n",
    "        if next_behavior in states:\n",
    "            j = states.index(next_behavior)\n",
    "            markov_matrix[i, j] = frequency\n",
    "\n",
    "# 归一化\n",
    "markov_matrix_n = markov_matrix / markov_matrix.sum(axis=1, keepdims=True)\n",
    "\n",
    "# 打印结果\n",
    "print(\"States:\", states)\n",
    "print(\"Markov Matrix:\\n\", markov_matrix)\n",
    "print(\"Markov Matrix Normalized:\\n\", markov_matrix_n)"
   ]
  }
 ],
 "metadata": {
  "kernelspec": {
   "display_name": "base",
   "language": "python",
   "name": "python3"
  },
  "language_info": {
   "codemirror_mode": {
    "name": "ipython",
    "version": 3
   },
   "file_extension": ".py",
   "mimetype": "text/x-python",
   "name": "python",
   "nbconvert_exporter": "python",
   "pygments_lexer": "ipython3",
   "version": "3.9.13"
  }
 },
 "nbformat": 4,
 "nbformat_minor": 2
}
